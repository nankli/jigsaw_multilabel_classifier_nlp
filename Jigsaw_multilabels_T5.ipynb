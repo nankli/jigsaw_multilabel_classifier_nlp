{
  "nbformat": 4,
  "nbformat_minor": 0,
  "metadata": {
    "colab": {
      "provenance": [],
      "gpuType": "T4"
    },
    "kernelspec": {
      "name": "python3",
      "display_name": "Python 3"
    },
    "language_info": {
      "name": "python"
    },
    "accelerator": "GPU"
  },
  "cells": [
    {
      "cell_type": "markdown",
      "source": [
        "## Toxic comment multi-class classification using fine-tuned T5 model"
      ],
      "metadata": {
        "id": "n5lecGSRHgbw"
      }
    },
    {
      "cell_type": "markdown",
      "source": [
        "#### 1. Dataset"
      ],
      "metadata": {
        "id": "EuN7N_Wvufi0"
      }
    },
    {
      "cell_type": "markdown",
      "source": [
        "Jigsaw toxic comments data with multi-class labels\n",
        "\n",
        "https://www.kaggle.com/competitions/jigsaw-toxic-comment-classification-challenge\n",
        "\n"
      ],
      "metadata": {
        "id": "6mEfCfqIHwS_"
      }
    },
    {
      "cell_type": "markdown",
      "source": [
        "#### 2. Importing libraries"
      ],
      "metadata": {
        "id": "Yetdshezuu8b"
      }
    },
    {
      "cell_type": "code",
      "source": [
        "import numpy as np\n",
        "import pandas as pd\n",
        "import matplotlib.pyplot as plt\n",
        "import seaborn as sns\n",
        "import os\n",
        "import re\n",
        "\n",
        "# Deep Learning Framework - Using PyTorch here\n",
        "import torch\n",
        "from torch.utils.data import Dataset, DataLoader\n",
        "from torch import nn\n",
        "from torch.optim import AdamW\n",
        "\n",
        "# Hugging Face Transformers\n",
        "#!pip install transformers\n",
        "from transformers import BertTokenizer, BertForSequenceClassification, get_linear_schedule_with_warmup, T5Tokenizer, T5ForConditionalGeneration\n",
        "\n",
        "# Scikit-learn\n",
        "from sklearn.model_selection import train_test_split\n",
        "from sklearn.metrics import roc_auc_score, classification_report, hamming_loss, accuracy_score\n",
        "\n",
        "# Set random seeds for reproducibility\n",
        "SEED = 42\n",
        "np.random.seed(SEED)\n",
        "torch.manual_seed(SEED)\n",
        "torch.cuda.manual_seed_all(SEED) # if using CUDA\n",
        "\n",
        "# Setup device use gpu cuda if avaible\n",
        "device = torch.device(\"cuda\" if torch.cuda.is_available() else \"cpu\")\n",
        "print(f\"Using device: {device}\")#\n",
        "\n",
        "# Configuration (Adjust these as needed)\n",
        "MODEL_NAME = 't5-small'\n",
        "MAX_LENGTH = 128 # Max sequence length  (adjust based on EDA)\n",
        "BATCH_SIZE = 16 # Adjust based on GPU memory\n",
        "EPOCHS = 3 # Number of training epochs\n",
        "LEARNING_RATE = 2e-5 # Common learning rate"
      ],
      "metadata": {
        "colab": {
          "base_uri": "https://localhost:8080/"
        },
        "id": "8hVqFszZIDp7",
        "outputId": "e1649a69-a077-4bc4-9249-d9b1586b9070"
      },
      "execution_count": 21,
      "outputs": [
        {
          "output_type": "stream",
          "name": "stdout",
          "text": [
            "Using device: cuda\n"
          ]
        }
      ]
    },
    {
      "cell_type": "markdown",
      "source": [
        "#### 3. Loading Data"
      ],
      "metadata": {
        "id": "Iteq-TCeuzRO"
      }
    },
    {
      "cell_type": "code",
      "source": [
        "from google.colab import drive\n",
        "drive.mount('/content/drive')\n",
        "data = pd.read_csv('/content/drive/My Drive/datasets/jigsaw_multilabel.csv')"
      ],
      "metadata": {
        "colab": {
          "base_uri": "https://localhost:8080/"
        },
        "id": "vyQm7fM5HHk8",
        "outputId": "6cd82f9b-7e8d-40eb-ccec-4cf804fc993b"
      },
      "execution_count": 22,
      "outputs": [
        {
          "output_type": "stream",
          "name": "stdout",
          "text": [
            "Drive already mounted at /content/drive; to attempt to forcibly remount, call drive.mount(\"/content/drive\", force_remount=True).\n"
          ]
        }
      ]
    },
    {
      "cell_type": "code",
      "source": [
        "print(data.head())"
      ],
      "metadata": {
        "colab": {
          "base_uri": "https://localhost:8080/"
        },
        "id": "5rPN11nGHHc-",
        "outputId": "a4a394d6-cb40-41de-f2e1-8f5aee3ec743"
      },
      "execution_count": 23,
      "outputs": [
        {
          "output_type": "stream",
          "name": "stdout",
          "text": [
            "                 id                                       comment_text  toxic  \\\n",
            "0  0000997932d777bf  Explanation\\nWhy the edits made under my usern...      0   \n",
            "1  000103f0d9cfb60f  D'aww! He matches this background colour I'm s...      0   \n",
            "2  000113f07ec002fd  Hey man, I'm really not trying to edit war. It...      0   \n",
            "3  0001b41b1c6bb37e  \"\\nMore\\nI can't make any real suggestions on ...      0   \n",
            "4  0001d958c54c6e35  You, sir, are my hero. Any chance you remember...      0   \n",
            "\n",
            "   severe_toxic  obscene  threat  insult  identity_hate  \n",
            "0             0        0       0       0              0  \n",
            "1             0        0       0       0              0  \n",
            "2             0        0       0       0              0  \n",
            "3             0        0       0       0              0  \n",
            "4             0        0       0       0              0  \n"
          ]
        }
      ]
    },
    {
      "cell_type": "markdown",
      "source": [
        "#### 4. Exploratory Data Analysis (EDA)"
      ],
      "metadata": {
        "id": "g-nVUIFDu3x9"
      }
    },
    {
      "cell_type": "code",
      "source": [
        "# Define target labels\n",
        "label_cols = ['toxic', 'severe_toxic', 'obscene', 'threat', 'insult', 'identity_hate']\n",
        "# Calculate label counts and percentages\n",
        "label_counts = data[label_cols].sum()\n",
        "label_percentages = (label_counts / len(data)) * 100\n",
        "\n",
        "# Create a DataFrame for plotting\n",
        "label_stats_df = pd.DataFrame({'count': label_counts, 'percentage': label_percentages})\n",
        "print(\"Label Distribution:\")\n",
        "print(label_stats_df)\n",
        "\n",
        "# Plotting\n",
        "plt.figure(figsize=(12, 6))\n",
        "sns.barplot(x=label_stats_df.index, y=label_stats_df['count'])\n",
        "plt.title('Distribution of Toxicity Labels')\n",
        "plt.ylabel('Number of Comments')\n",
        "plt.xlabel('Toxicity Type')\n",
        "plt.xticks(rotation=45)\n",
        "plt.show()\n",
        "\n",
        "# Check for comments with no labels (clean comments)\n",
        "no_label_count = len(data[data[label_cols].sum(axis=1) == 0])\n",
        "print(f\"\\nNumber of comments with NO toxicity labels: {no_label_count} ({no_label_count / len(data) * 100:.2f}%)\")\n",
        "\n",
        "# Multi-label Correlation\n",
        "plt.figure(figsize=(8, 6))\n",
        "sns.heatmap(data[label_cols].corr(), annot=True, cmap='coolwarm', fmt=\".2f\")\n",
        "plt.title('Correlation Matrix of Toxicity Labels')\n",
        "plt.show()\n",
        "# Observation: High correlation between 'toxic' and 'obscene'/'insult'. 'Severe toxic' implies 'toxic'."
      ],
      "metadata": {
        "colab": {
          "base_uri": "https://localhost:8080/",
          "height": 1000
        },
        "id": "AtDafMdNJtyD",
        "outputId": "3844cbe8-af8a-4581-e271-d210c42c6497"
      },
      "execution_count": 24,
      "outputs": [
        {
          "output_type": "stream",
          "name": "stdout",
          "text": [
            "Label Distribution:\n",
            "               count  percentage\n",
            "toxic          15294    9.584448\n",
            "severe_toxic    1595    0.999555\n",
            "obscene         8449    5.294822\n",
            "threat           478    0.299553\n",
            "insult          7877    4.936361\n",
            "identity_hate   1405    0.880486\n"
          ]
        },
        {
          "output_type": "display_data",
          "data": {
            "text/plain": [
              "<Figure size 1200x600 with 1 Axes>"
            ],
            "image/png": "[encoded data removed]"
          },
          "metadata": {}
        },
        {
          "output_type": "stream",
          "name": "stdout",
          "text": [
            "\n",
            "Number of comments with NO toxicity labels: 143346 (89.83%)\n"
          ]
        },
        {
          "output_type": "display_data",
          "data": {
            "text/plain": [
              "<Figure size 800x600 with 2 Axes>"
            ],
            "image/png": "[encoded data removed]"
          },
          "metadata": {}
        }
      ]
    },
    {
      "cell_type": "code",
      "metadata": {
        "colab": {
          "base_uri": "https://localhost:8080/",
          "height": 741
        },
        "id": "42d78848",
        "outputId": "b7fee3da-0056-498c-d466-2fbc9ebc2d12"
      },
      "source": [
        "data['comment_length'] = data['comment_text'].apply(lambda x: len(x.split()))\n",
        "\n",
        "\n",
        "plt.figure(figsize=(12, 6))\n",
        "sns.histplot(data['comment_length'], bins=100, kde=True)\n",
        "plt.title('Distribution of Comment Length (Words)')\n",
        "plt.xlabel('Number of Words')\n",
        "plt.ylabel('Frequency')\n",
        "# Limit x-axis for better visualization if needed\n",
        "plt.xlim(0, 500)\n",
        "plt.show()\n",
        "\n",
        "print(\"\\nComment Length Statistics (Words):\")\n",
        "print(data['comment_length'].describe())\n",
        "# Observation: Most comments are well below 512 tokens, but some are longer. MAX_LENGTH=128 or 256 might be reasonable start."
      ],
      "execution_count": 25,
      "outputs": [
        {
          "output_type": "display_data",
          "data": {
            "text/plain": [
              "<Figure size 1200x600 with 1 Axes>"
            ],
            "image/png": "[encoded data removed]"
          },
          "metadata": {}
        },
        {
          "output_type": "stream",
          "name": "stdout",
          "text": [
            "\n",
            "Comment Length Statistics (Words):\n",
            "count    159571.000000\n",
            "mean         67.273527\n",
            "std          99.230702\n",
            "min           1.000000\n",
            "25%          17.000000\n",
            "50%          36.000000\n",
            "75%          75.000000\n",
            "max        1411.000000\n",
            "Name: comment_length, dtype: float64\n"
          ]
        }
      ]
    },
    {
      "cell_type": "markdown",
      "source": [
        "#### 5. Data Preprocessing and Tokenization"
      ],
      "metadata": {
        "id": "hM7QRBFuKv9z"
      }
    },
    {
      "cell_type": "markdown",
      "source": [
        "##### 5.1 Text Cleaning"
      ],
      "metadata": {
        "id": "GS1rjsiFvcWV"
      }
    },
    {
      "cell_type": "code",
      "source": [
        "def clean_text(text):\n",
        "    text = str(text)\n",
        "    # Remove URLs\n",
        "    text = re.sub(r'http\\S+|www\\S+|https\\S+', '', text, flags=re.MULTILINE)\n",
        "    # Remove excessive whitespace\n",
        "    text = re.sub(r'\\s+', ' ', text).strip()\n",
        "    # Basic handling of common issues if needed\n",
        "    text = text.lower()\n",
        "    return text\n",
        "\n",
        "# Apply cleaning (demonstrative - may skip depending on BERT variant)\n",
        "data['comment_text_cleaned'] = data['comment_text'].apply(clean_text)\n",
        "\n"
      ],
      "metadata": {
        "id": "iwiQvGiLK1xu"
      },
      "execution_count": 26,
      "outputs": []
    },
    {
      "cell_type": "markdown",
      "source": [
        "##### 5.2 Tokenization with BERT Tokenizer"
      ],
      "metadata": {
        "id": "jUze1yArvgKp"
      }
    },
    {
      "cell_type": "code",
      "source": [
        "# tokenization\n",
        "tokenizer = T5Tokenizer.from_pretrained(MODEL_NAME)\n",
        "\n",
        "# Example tokenization\n",
        "sample_text = \"This is a sample comment for tokenization.\"\n",
        "tokens = tokenizer.encode_plus(\n",
        "    sample_text,\n",
        "    max_length=32,\n",
        "    padding='max_length', # Pad to max_length\n",
        "    truncation=True,      # Truncate longer sequences\n",
        "    return_tensors='pt'   # Return PyTorch tensors\n",
        ")\n",
        "\n",
        "print(\"\\nSample Tokenization:\")\n",
        "print(f\"Text: {sample_text}\")\n",
        "# T5 tokenizer decode method is slightly different, it directly decodes token IDs\n",
        "print(f\"Tokens (decoded): {tokenizer.decode(tokens['input_ids'][0], skip_special_tokens=True)}\")\n",
        "print(f\"Input IDs: {tokens['input_ids']}\")\n",
        "print(f\"Attention Mask: {tokens['attention_mask']}\") # 1 for real tokens, 0 for padding"
      ],
      "metadata": {
        "colab": {
          "base_uri": "https://localhost:8080/"
        },
        "id": "elK_12lqLURY",
        "outputId": "1cfc7495-3719-4c70-8373-a496299dea8b"
      },
      "execution_count": 27,
      "outputs": [
        {
          "output_type": "stream",
          "name": "stdout",
          "text": [
            "\n",
            "Sample Tokenization:\n",
            "Text: This is a sample comment for tokenization.\n",
            "Tokens (decoded): This is a sample comment for tokenization.\n",
            "Input IDs: tensor([[  100,    19,     3,     9,  3106,  1670,    21, 14145,  1707,     5,\n",
            "             1,     0,     0,     0,     0,     0,     0,     0,     0,     0,\n",
            "             0,     0,     0,     0,     0,     0,     0,     0,     0,     0,\n",
            "             0,     0]])\n",
            "Attention Mask: tensor([[1, 1, 1, 1, 1, 1, 1, 1, 1, 1, 1, 0, 0, 0, 0, 0, 0, 0, 0, 0, 0, 0, 0, 0,\n",
            "         0, 0, 0, 0, 0, 0, 0, 0]])\n"
          ]
        }
      ]
    },
    {
      "cell_type": "markdown",
      "source": [
        "##### 5.3 Creating Pytorch Datasets and DataLoaders"
      ],
      "metadata": {
        "id": "jbgGyxtmvjkc"
      }
    },
    {
      "cell_type": "code",
      "source": [
        "#Encapsulate the data and tokenization logic into a PyTorch Dataset class for efficient batch loading.\n",
        "class ToxicCommentDataset(Dataset):\n",
        "    def __init__(self, comments, labels, tokenizer, max_len):\n",
        "        self.comments = comments\n",
        "        self.labels = labels\n",
        "        self.tokenizer = tokenizer\n",
        "        self.max_len = max_len\n",
        "        self.label_cols = ['toxic', 'severe_toxic', 'obscene', 'threat', 'insult', 'identity_hate']\n",
        "\n",
        "    def __len__(self):\n",
        "        return len(self.comments)\n",
        "\n",
        "    def __getitem__(self, item):\n",
        "        comment = str(self.comments[item])\n",
        "        target = self.labels[item] # This is a numpy array of shape (6,)\n",
        "\n",
        "        # T5 input format: Prepend a task-specific prefix\n",
        "        # Convert the multi-hot encoded label array into a target string\n",
        "        # e.g., [0, 1, 0, 0, 1, 0] -> \"severe_toxic, insult\" or \"clean\" if all 0\n",
        "        target_labels_str = [self.label_cols[i] for i, val in enumerate(target) if val == 1]\n",
        "        if not target_labels_str:\n",
        "            target_text = \"clean\"\n",
        "        else:\n",
        "            target_text = \", \".join(target_labels_str)\n",
        "\n",
        "\n",
        "        source_text = \"classify comment: \" + comment\n",
        "\n",
        "        # Tokenize source text (comment with prefix)\n",
        "        source_encoding = self.tokenizer(\n",
        "            source_text,\n",
        "            add_special_tokens=True,\n",
        "            max_length=self.max_len,\n",
        "            padding='max_length',\n",
        "            truncation=True,\n",
        "            return_attention_mask=True,\n",
        "            return_tensors='pt',\n",
        "        )\n",
        "\n",
        "        # Tokenize target text (labels as string)\n",
        "        target_encoding = self.tokenizer(\n",
        "            target_text,\n",
        "            add_special_tokens=True,\n",
        "            max_length=self.max_len, # Using same max length for target for simplicity\n",
        "            padding='max_length',\n",
        "            truncation=True,\n",
        "            return_attention_mask=True, # Although not strictly needed for labels in T5, good practice\n",
        "            return_tensors='pt',\n",
        "        )\n",
        "\n",
        "        # T5 requires decoder_input_ids (shifted version of target_encoding['input_ids'])\n",
        "        # However, the T5ForConditionalGeneration model handles this internally when\n",
        "        # the 'labels' argument is provided during the forward pass.\n",
        "        # So, we return the target_encoding['input_ids'] as 'labels'.\n",
        "\n",
        "        return {\n",
        "            'comment_text': comment, # Keep original for debugging\n",
        "            'input_ids': source_encoding['input_ids'].flatten(),\n",
        "            'attention_mask': source_encoding['attention_mask'].flatten(),\n",
        "            'labels': target_encoding['input_ids'].flatten() # Target input IDs for T5 decoder\n",
        "        }\n",
        "\n",
        "# Prepare data for Dataset class\n",
        "X = data['comment_text_cleaned'].values\n",
        "y = data[label_cols].values\n",
        "\n",
        "# Split data into training and validation sets\n",
        "X_train, X_val, y_train, y_val = train_test_split(\n",
        "    X, y,\n",
        "    test_size=0.1, # Use 10% for validation\n",
        "    random_state=SEED,\n",
        "    # Stratification is complex for multi-label, can skip or use iterative stratification if needed\n",
        ")\n",
        "\n",
        "print(f\"\\nTrain size: {len(X_train)}, Validation size: {len(X_val)}\")\n",
        "\n",
        "# Create Datasets\n",
        "train_dataset = ToxicCommentDataset(X_train, y_train, tokenizer, MAX_LENGTH)\n",
        "val_dataset = ToxicCommentDataset(X_val, y_val, tokenizer, MAX_LENGTH)\n",
        "\n",
        "# Create DataLoaders\n",
        "train_dataloader = DataLoader(train_dataset, batch_size=BATCH_SIZE, shuffle=True, num_workers=2) # num_workers depends on your system\n",
        "val_dataloader = DataLoader(val_dataset, batch_size=BATCH_SIZE, shuffle=False, num_workers=2)\n",
        "\n",
        "# Example batch check\n",
        "data = next(iter(train_dataloader))\n",
        "print(\"\\nSample batch shapes:\")\n",
        "print(\"Input IDs:\", data['input_ids'].shape)\n",
        "print(\"Attention Mask:\", data['attention_mask'].shape)\n",
        "print(\"Labels:\", data['labels'].shape) # Should now be the shape of target input IDs"
      ],
      "metadata": {
        "colab": {
          "base_uri": "https://localhost:8080/"
        },
        "id": "Q5ivz_dLLgLj",
        "outputId": "1721427a-25ae-4c07-fae8-959449cae309"
      },
      "execution_count": 28,
      "outputs": [
        {
          "output_type": "stream",
          "name": "stdout",
          "text": [
            "\n",
            "Train size: 143613, Validation size: 15958\n",
            "\n",
            "Sample batch shapes:\n",
            "Input IDs: torch.Size([16, 128])\n",
            "Attention Mask: torch.Size([16, 128])\n",
            "Labels: torch.Size([16, 128])\n"
          ]
        }
      ]
    },
    {
      "cell_type": "code",
      "source": [
        "print(torch.cuda.is_available())\n",
        "print(torch.cuda.get_device_name(0))"
      ],
      "metadata": {
        "colab": {
          "base_uri": "https://localhost:8080/"
        },
        "id": "ckC_UNlMON5K",
        "outputId": "0cd73a40-33ac-42d1-86c6-a384b9c7f06d"
      },
      "execution_count": 29,
      "outputs": [
        {
          "output_type": "stream",
          "name": "stdout",
          "text": [
            "True\n",
            "Tesla T4\n"
          ]
        }
      ]
    },
    {
      "cell_type": "markdown",
      "source": [
        "#### 6. Model Definition"
      ],
      "metadata": {
        "id": "tUtS3oxgvoaH"
      }
    },
    {
      "cell_type": "code",
      "source": [
        "# Load the pre-trained T5 model (T5ForConditionalGeneration)\n",
        "# T5ForConditionalGeneration is suitable for sequence-to-sequence tasks like generating labels.\n",
        "model = T5ForConditionalGeneration.from_pretrained(MODEL_NAME)\n",
        "\n",
        "# Move the model to the designated device (GPU or CPU)\n",
        "model.to(device)\n",
        "\n",
        "print(\"\\nModel loaded successfully.\")\n",
        "# print(model) # Uncomment to see model architecture details"
      ],
      "metadata": {
        "colab": {
          "base_uri": "https://localhost:8080/"
        },
        "id": "0F6dAa4NL868",
        "outputId": "48dbd857-cfbd-4864-ef68-3216811fada7"
      },
      "execution_count": 30,
      "outputs": [
        {
          "output_type": "stream",
          "name": "stdout",
          "text": [
            "\n",
            "Model loaded successfully.\n"
          ]
        }
      ]
    },
    {
      "cell_type": "markdown",
      "source": [
        "#### 7. Model Training"
      ],
      "metadata": {
        "id": "sNHWQC_Dv0Xj"
      }
    },
    {
      "cell_type": "markdown",
      "source": [
        "##### 7.1 Setup Optimizer and Scheduler"
      ],
      "metadata": {
        "id": "4eylU8SIv07n"
      }
    },
    {
      "cell_type": "code",
      "source": [
        "#Setup Optimizer and Scheduler\n",
        "# Optimizer\n",
        "optimizer = AdamW(model.parameters(), lr=LEARNING_RATE, eps=1e-8)\n",
        "\n",
        "# Total number of training steps\n",
        "total_steps = len(train_dataloader) * EPOCHS\n",
        "\n",
        "# Learning rate scheduler\n",
        "scheduler = get_linear_schedule_with_warmup(\n",
        "    optimizer,\n",
        "    num_warmup_steps=0, # Optional: set a number of warmup steps (e.g., 0.1 * total_steps)\n",
        "    num_training_steps=total_steps\n",
        ")\n",
        "\n",
        "# Loss function: CrossEntropyLoss with label_smoothing (optional but helpful for seq2seq)\n",
        "loss_fn = nn.CrossEntropyLoss(ignore_index=tokenizer.pad_token_id, label_smoothing=0.1)"
      ],
      "metadata": {
        "id": "GYyOOuS5MSzL"
      },
      "execution_count": 31,
      "outputs": []
    },
    {
      "cell_type": "markdown",
      "source": [
        "##### 7.2 Training and Evaluation loop"
      ],
      "metadata": {
        "id": "DqYp7OnlwU1b"
      }
    },
    {
      "cell_type": "code",
      "metadata": {
        "colab": {
          "base_uri": "https://localhost:8080/"
        },
        "id": "bb0184ce",
        "outputId": "b0cd44fa-2f5a-4828-f5ef-ba1479cb5872"
      },
      "source": [
        "#Training Loop\n",
        "def train_epoch(model, data_loader, optimizer, device, scheduler):\n",
        "    model.train()\n",
        "    total_loss = 0\n",
        "    num_batches = len(data_loader)\n",
        "\n",
        "    for i, batch in enumerate(data_loader):\n",
        "        # Move batch to device\n",
        "        input_ids = batch[\"input_ids\"].to(device)\n",
        "        attention_mask = batch[\"attention_mask\"].to(device)\n",
        "        labels = batch[\"labels\"].to(device) # T5 uses 'labels' for the target sequence\n",
        "\n",
        "        # Clear previous gradients\n",
        "        optimizer.zero_grad()\n",
        "\n",
        "        # Forward pass\n",
        "        # T5ForConditionalGeneration computes the loss internally when labels are provided\n",
        "        outputs = model(\n",
        "            input_ids=input_ids,\n",
        "            attention_mask=attention_mask,\n",
        "            labels=labels # Provide the target sequence as labels\n",
        "        )\n",
        "        loss = outputs.loss # Access the calculated loss\n",
        "\n",
        "        total_loss += loss.item()\n",
        "\n",
        "        # Backward pass\n",
        "        loss.backward()\n",
        "\n",
        "        # Clip gradients to prevent exploding gradients (common practice)\n",
        "        nn.utils.clip_grad_norm_(model.parameters(), max_norm=1.0)\n",
        "\n",
        "        # Update parameters\n",
        "        optimizer.step()\n",
        "        scheduler.step() # Update learning rate\n",
        "\n",
        "        # Print progress (optional)\n",
        "        if (i + 1) % 100 == 0:\n",
        "             print(f'  Batch {i + 1}/{num_batches} | Loss: {loss.item():.4f}')\n",
        "\n",
        "\n",
        "    avg_train_loss = total_loss / num_batches\n",
        "    print(f\"\\n  Average Training Loss: {avg_train_loss:.4f}\")\n",
        "    return avg_train_loss\n",
        "\n",
        "#Evaluation Loop\n",
        "def eval_model(model, data_loader, tokenizer, device, label_cols):\n",
        "    model.eval() # Set model to evaluation mode\n",
        "    total_loss = 0\n",
        "    all_predicted_texts = []\n",
        "    all_true_texts = []\n",
        "    num_batches = len(data_loader)\n",
        "\n",
        "    # Map label strings back to indices for metric calculation later\n",
        "    label_to_index = {label: i for i, label in enumerate(label_cols)}\n",
        "\n",
        "    with torch.no_grad(): # Disable gradient calculation\n",
        "        for batch in data_loader:\n",
        "            # Move batch to device\n",
        "            input_ids = batch[\"input_ids\"].to(device)\n",
        "            attention_mask = batch[\"attention_mask\"].to(device)\n",
        "            labels = batch[\"labels\"].to(device) # T5 uses 'labels' for the target sequence\n",
        "\n",
        "            # Calculate loss during evaluation (optional, but good for monitoring)\n",
        "            outputs = model(\n",
        "                input_ids=input_ids,\n",
        "                attention_mask=attention_mask,\n",
        "                labels=labels # Provide the target sequence as labels\n",
        "            )\n",
        "            loss = outputs.loss\n",
        "            total_loss += loss.item()\n",
        "\n",
        "            # Generate predictions (token IDs)\n",
        "            generated_ids = model.generate(\n",
        "                input_ids=input_ids,\n",
        "                attention_mask=attention_mask,\n",
        "                max_length=MAX_LENGTH, # Use the same max length as for target tokenization\n",
        "                num_beams=3, # Simple greedy search for now. Experiment with higher values (e.g., 4 or 5)\n",
        "                repetition_penalty=2.5, # Penalize repeated tokens\n",
        "                length_penalty=1.0, # Encourage longer sequences\n",
        "\n",
        "            )\n",
        "\n",
        "            # Decode generated token IDs back to strings\n",
        "            predicted_texts = [tokenizer.decode(gen_id, skip_special_tokens=True) for gen_id in generated_ids]\n",
        "            true_texts = [tokenizer.decode(true_id, skip_special_tokens=True) for true_id in labels]\n",
        "\n",
        "            all_predicted_texts.extend(predicted_texts)\n",
        "            all_true_texts.extend(true_texts)\n",
        "\n",
        "\n",
        "    avg_val_loss = total_loss / num_batches\n",
        "    print(f\"  Average Validation Loss: {avg_val_loss:.4f}\")\n",
        "\n",
        "    # --- Metric Calculation based on generated text ---\n",
        "    # Convert predicted and true text labels back to multi-hot encoding for standard metrics\n",
        "    # This requires careful parsing of the generated text string (e.g., \"toxic, insult\")\n",
        "\n",
        "    def parse_labels_from_text(text, label_mapping):\n",
        "        \"\"\"Parses a comma-separated string of labels into a multi-hot encoded list.\"\"\"\n",
        "        # Handle \"clean\" case\n",
        "        if text.strip().lower() == \"clean\":\n",
        "            return [0] * len(label_mapping)\n",
        "\n",
        "        # Split the string and create the multi-hot encoding\n",
        "        predicted_labels = [0] * len(label_mapping)\n",
        "        for label in text.split(','):\n",
        "            label = label.strip()\n",
        "            # Handle potential variations in generated labels (e.g., extra spaces)\n",
        "            label = label.lower().replace(\" \", \"_\") # Convert to expected format if needed\n",
        "            if label in label_mapping:\n",
        "                predicted_labels[label_mapping[label]] = 1\n",
        "            # Optional: Add a warning for unrecognised predicted labels\n",
        "            # else:\n",
        "            #     print(f\"Warning: Unrecognized predicted label: {label}\")\n",
        "\n",
        "        return predicted_labels\n",
        "\n",
        "    all_true_multihot = np.array([parse_labels_from_text(text, label_to_index) for text in all_true_texts])\n",
        "    all_predicted_multihot = np.array([parse_labels_from_text(text, label_to_index) for text in all_predicted_texts])\n",
        "\n",
        "    # Ensure dimensions match (should be len(samples) x len(label_cols))\n",
        "    if all_true_multihot.shape != all_predicted_multihot.shape or all_true_multihot.shape[1] != len(label_cols):\n",
        "        print(\"Warning: Mismatch in shapes or number of labels during metric calculation.\")\n",
        "\n",
        "\n",
        "    # Calculate Hamming Loss\n",
        "    hamming = hamming_loss(all_true_multihot, all_predicted_multihot)\n",
        "    print(f\"  Hamming Loss: {hamming:.4f}\")\n",
        "\n",
        "    # Calculate Classification Report (Precision, Recall, F1 per label)\n",
        "    print(\"\\nClassification Report (parsed labels):\")\n",
        "    # Need to handle cases where a label might not appear in the true or predicted set\n",
        "    # using zero_division=0 in classification_report\n",
        "    print(classification_report(all_true_multihot, all_predicted_multihot, target_names=label_cols, zero_division=0))\n",
        "\n",
        "    return avg_val_loss, None, hamming # Return None for ROC AUC\n",
        "\n",
        "# Update the training loop to call the modified functions\n",
        "# The training loop code remains largely the same, only the function calls change\n",
        "history = {'train_loss': [], 'val_loss': [], 'val_roc_auc': [], 'val_hamming': []}\n",
        "\n",
        "best_val_loss = float('inf') # Initialize with a high value\n",
        "best_model_state = None\n",
        "\n",
        "print(\"\\nStarting Training...\")\n",
        "for epoch in range(EPOCHS):\n",
        "    print(f'\\n--- Epoch {epoch + 1}/{EPOCHS} ---')\n",
        "\n",
        "    # Call modified train_epoch\n",
        "    train_loss = train_epoch(\n",
        "        model,\n",
        "        train_dataloader,\n",
        "        optimizer,\n",
        "        device,\n",
        "        scheduler\n",
        "    )\n",
        "    history['train_loss'].append(train_loss)\n",
        "\n",
        "    print(f\"\\n--- Validation Epoch {epoch + 1} ---\")\n",
        "    # Call modified eval_model - pass tokenizer and label_cols\n",
        "    val_loss, _, val_hamming = eval_model(\n",
        "        model,\n",
        "        val_dataloader,\n",
        "        tokenizer, # Pass tokenizer\n",
        "        device,\n",
        "        label_cols # Pass label_cols\n",
        "    )\n",
        "    history['val_loss'].append(val_loss)\n",
        "    history['val_hamming'].append(val_hamming)\n",
        "\n",
        "    # Save the best model based on validation loss (lower is better)\n",
        "    if val_loss < best_val_loss:\n",
        "        best_val_loss = val_loss\n",
        "        best_model_state = model.state_dict()\n",
        "        torch.save(best_model_state, 'best_model_state.bin')\n",
        "        print(f\"  ** New best model saved with Validation Loss: {best_val_loss:.4f} **\")\n",
        "\n",
        "print(\"\\nTraining Finished.\")\n",
        "print(f\"Best Validation Loss: {best_val_loss:.4f}\")\n",
        "\n",
        "# Load the best model state for prediction (if needed later)\n",
        "if best_model_state:\n",
        "    model.load_state_dict(best_model_state)\n",
        "    print(\"Loaded best model state for prediction.\")"
      ],
      "execution_count": 33,
      "outputs": [
        {
          "output_type": "stream",
          "name": "stdout",
          "text": [
            "\n",
            "Starting Training...\n",
            "\n",
            "--- Epoch 1/3 ---\n",
            "  Batch 100/8976 | Loss: 0.6489\n",
            "  Batch 200/8976 | Loss: 0.2056\n",
            "  Batch 300/8976 | Loss: 0.0974\n",
            "  Batch 400/8976 | Loss: 0.0532\n",
            "  Batch 500/8976 | Loss: 0.0266\n",
            "  Batch 600/8976 | Loss: 0.0160\n",
            "  Batch 700/8976 | Loss: 0.0123\n",
            "  Batch 800/8976 | Loss: 0.0285\n",
            "  Batch 900/8976 | Loss: 0.0194\n",
            "  Batch 1000/8976 | Loss: 0.0369\n",
            "  Batch 1100/8976 | Loss: 0.0047\n",
            "  Batch 1200/8976 | Loss: 0.0051\n",
            "  Batch 1300/8976 | Loss: 0.0105\n",
            "  Batch 1400/8976 | Loss: 0.0127\n",
            "  Batch 1500/8976 | Loss: 0.0014\n",
            "  Batch 1600/8976 | Loss: 0.0046\n",
            "  Batch 1700/8976 | Loss: 0.0158\n",
            "  Batch 1800/8976 | Loss: 0.0206\n",
            "  Batch 1900/8976 | Loss: 0.0074\n",
            "  Batch 2000/8976 | Loss: 0.0167\n",
            "  Batch 2100/8976 | Loss: 0.0020\n",
            "  Batch 2200/8976 | Loss: 0.0086\n",
            "  Batch 2300/8976 | Loss: 0.0052\n",
            "  Batch 2400/8976 | Loss: 0.0024\n",
            "  Batch 2500/8976 | Loss: 0.0034\n",
            "  Batch 2600/8976 | Loss: 0.0042\n",
            "  Batch 2700/8976 | Loss: 0.0047\n",
            "  Batch 2800/8976 | Loss: 0.0068\n",
            "  Batch 2900/8976 | Loss: 0.0049\n",
            "  Batch 3000/8976 | Loss: 0.0022\n",
            "  Batch 3100/8976 | Loss: 0.0051\n",
            "  Batch 3200/8976 | Loss: 0.0110\n",
            "  Batch 3300/8976 | Loss: 0.0004\n",
            "  Batch 3400/8976 | Loss: 0.0004\n",
            "  Batch 3500/8976 | Loss: 0.0099\n",
            "  Batch 3600/8976 | Loss: 0.0007\n",
            "  Batch 3700/8976 | Loss: 0.0018\n",
            "  Batch 3800/8976 | Loss: 0.0044\n",
            "  Batch 3900/8976 | Loss: 0.0069\n",
            "  Batch 4000/8976 | Loss: 0.0003\n",
            "  Batch 4100/8976 | Loss: 0.0027\n",
            "  Batch 4200/8976 | Loss: 0.0047\n",
            "  Batch 4300/8976 | Loss: 0.0063\n",
            "  Batch 4400/8976 | Loss: 0.0013\n",
            "  Batch 4500/8976 | Loss: 0.0076\n",
            "  Batch 4600/8976 | Loss: 0.0006\n",
            "  Batch 4700/8976 | Loss: 0.0045\n",
            "  Batch 4800/8976 | Loss: 0.0028\n",
            "  Batch 4900/8976 | Loss: 0.0042\n",
            "  Batch 5000/8976 | Loss: 0.0044\n",
            "  Batch 5100/8976 | Loss: 0.0032\n",
            "  Batch 5200/8976 | Loss: 0.0033\n",
            "  Batch 5300/8976 | Loss: 0.0019\n",
            "  Batch 5400/8976 | Loss: 0.0053\n",
            "  Batch 5500/8976 | Loss: 0.0079\n",
            "  Batch 5600/8976 | Loss: 0.0069\n",
            "  Batch 5700/8976 | Loss: 0.0010\n",
            "  Batch 5800/8976 | Loss: 0.0025\n",
            "  Batch 5900/8976 | Loss: 0.0004\n",
            "  Batch 6000/8976 | Loss: 0.0089\n",
            "  Batch 6100/8976 | Loss: 0.0028\n",
            "  Batch 6200/8976 | Loss: 0.0054\n",
            "  Batch 6300/8976 | Loss: 0.0012\n",
            "  Batch 6400/8976 | Loss: 0.0037\n",
            "  Batch 6500/8976 | Loss: 0.0010\n",
            "  Batch 6600/8976 | Loss: 0.0075\n",
            "  Batch 6700/8976 | Loss: 0.0043\n",
            "  Batch 6800/8976 | Loss: 0.0038\n",
            "  Batch 6900/8976 | Loss: 0.0071\n",
            "  Batch 7000/8976 | Loss: 0.0056\n",
            "  Batch 7100/8976 | Loss: 0.0020\n",
            "  Batch 7200/8976 | Loss: 0.0027\n",
            "  Batch 7300/8976 | Loss: 0.0055\n",
            "  Batch 7400/8976 | Loss: 0.0031\n",
            "  Batch 7500/8976 | Loss: 0.0047\n",
            "  Batch 7600/8976 | Loss: 0.0043\n",
            "  Batch 7700/8976 | Loss: 0.0041\n",
            "  Batch 7800/8976 | Loss: 0.0029\n",
            "  Batch 7900/8976 | Loss: 0.0045\n",
            "  Batch 8000/8976 | Loss: 0.0031\n",
            "  Batch 8100/8976 | Loss: 0.0014\n",
            "  Batch 8200/8976 | Loss: 0.0079\n",
            "  Batch 8300/8976 | Loss: 0.0002\n",
            "  Batch 8400/8976 | Loss: 0.0025\n",
            "  Batch 8500/8976 | Loss: 0.0002\n",
            "  Batch 8600/8976 | Loss: 0.0046\n",
            "  Batch 8700/8976 | Loss: 0.0062\n",
            "  Batch 8800/8976 | Loss: 0.0045\n",
            "  Batch 8900/8976 | Loss: 0.0048\n",
            "\n",
            "  Average Training Loss: 0.0812\n",
            "\n",
            "--- Validation Epoch 1 ---\n",
            "  Average Validation Loss: 0.0024\n",
            "  Hamming Loss: 0.0222\n",
            "\n",
            "Classification Report (parsed labels):\n",
            "               precision    recall  f1-score   support\n",
            "\n",
            "        toxic       0.80      0.73      0.76      1480\n",
            " severe_toxic       0.33      0.53      0.40       148\n",
            "      obscene       0.64      0.84      0.73       836\n",
            "       threat       0.00      0.00      0.00        37\n",
            "       insult       0.70      0.62      0.66       791\n",
            "identity_hate       0.00      0.00      0.00       147\n",
            "\n",
            "    micro avg       0.69      0.68      0.69      3439\n",
            "    macro avg       0.41      0.45      0.43      3439\n",
            " weighted avg       0.68      0.68      0.67      3439\n",
            "  samples avg       0.06      0.06      0.06      3439\n",
            "\n",
            "  ** New best model saved with Validation Loss: 0.0024 **\n",
            "\n",
            "--- Epoch 2/3 ---\n",
            "  Batch 100/8976 | Loss: 0.0002\n",
            "  Batch 200/8976 | Loss: 0.0016\n",
            "  Batch 300/8976 | Loss: 0.0004\n",
            "  Batch 400/8976 | Loss: 0.0025\n",
            "  Batch 500/8976 | Loss: 0.0020\n",
            "  Batch 600/8976 | Loss: 0.0029\n",
            "  Batch 700/8976 | Loss: 0.0043\n",
            "  Batch 800/8976 | Loss: 0.0005\n",
            "  Batch 900/8976 | Loss: 0.0069\n",
            "  Batch 1000/8976 | Loss: 0.0062\n",
            "  Batch 1100/8976 | Loss: 0.0018\n",
            "  Batch 1200/8976 | Loss: 0.0045\n",
            "  Batch 1300/8976 | Loss: 0.0123\n",
            "  Batch 1400/8976 | Loss: 0.0017\n",
            "  Batch 1500/8976 | Loss: 0.0005\n",
            "  Batch 1600/8976 | Loss: 0.0013\n",
            "  Batch 1700/8976 | Loss: 0.0022\n",
            "  Batch 1800/8976 | Loss: 0.0006\n",
            "  Batch 1900/8976 | Loss: 0.0020\n",
            "  Batch 2000/8976 | Loss: 0.0039\n",
            "  Batch 2100/8976 | Loss: 0.0075\n",
            "  Batch 2200/8976 | Loss: 0.0018\n",
            "  Batch 2300/8976 | Loss: 0.0037\n",
            "  Batch 2400/8976 | Loss: 0.0005\n",
            "  Batch 2500/8976 | Loss: 0.0008\n",
            "  Batch 2600/8976 | Loss: 0.0000\n",
            "  Batch 2700/8976 | Loss: 0.0011\n",
            "  Batch 2800/8976 | Loss: 0.0022\n",
            "  Batch 2900/8976 | Loss: 0.0016\n",
            "  Batch 3000/8976 | Loss: 0.0091\n",
            "  Batch 3100/8976 | Loss: 0.0062\n",
            "  Batch 3200/8976 | Loss: 0.0022\n",
            "  Batch 3300/8976 | Loss: 0.0028\n",
            "  Batch 3400/8976 | Loss: 0.0035\n",
            "  Batch 3500/8976 | Loss: 0.0033\n",
            "  Batch 3600/8976 | Loss: 0.0052\n",
            "  Batch 3700/8976 | Loss: 0.0010\n",
            "  Batch 3800/8976 | Loss: 0.0008\n",
            "  Batch 3900/8976 | Loss: 0.0018\n",
            "  Batch 4000/8976 | Loss: 0.0015\n",
            "  Batch 4100/8976 | Loss: 0.0054\n",
            "  Batch 4200/8976 | Loss: 0.0007\n",
            "  Batch 4300/8976 | Loss: 0.0026\n",
            "  Batch 4400/8976 | Loss: 0.0070\n",
            "  Batch 4500/8976 | Loss: 0.0019\n",
            "  Batch 4600/8976 | Loss: 0.0026\n",
            "  Batch 4700/8976 | Loss: 0.0006\n",
            "  Batch 4800/8976 | Loss: 0.0002\n",
            "  Batch 4900/8976 | Loss: 0.0018\n",
            "  Batch 5000/8976 | Loss: 0.0016\n",
            "  Batch 5100/8976 | Loss: 0.0068\n",
            "  Batch 5200/8976 | Loss: 0.0032\n",
            "  Batch 5300/8976 | Loss: 0.0035\n",
            "  Batch 5400/8976 | Loss: 0.0019\n",
            "  Batch 5500/8976 | Loss: 0.0006\n",
            "  Batch 5600/8976 | Loss: 0.0105\n",
            "  Batch 5700/8976 | Loss: 0.0063\n",
            "  Batch 5800/8976 | Loss: 0.0010\n",
            "  Batch 5900/8976 | Loss: 0.0049\n",
            "  Batch 6000/8976 | Loss: 0.0001\n",
            "  Batch 6100/8976 | Loss: 0.0001\n",
            "  Batch 6200/8976 | Loss: 0.0054\n",
            "  Batch 6300/8976 | Loss: 0.0004\n",
            "  Batch 6400/8976 | Loss: 0.0045\n",
            "  Batch 6500/8976 | Loss: 0.0012\n",
            "  Batch 6600/8976 | Loss: 0.0054\n",
            "  Batch 6700/8976 | Loss: 0.0002\n",
            "  Batch 6800/8976 | Loss: 0.0043\n",
            "  Batch 6900/8976 | Loss: 0.0028\n",
            "  Batch 7000/8976 | Loss: 0.0059\n",
            "  Batch 7100/8976 | Loss: 0.0026\n",
            "  Batch 7200/8976 | Loss: 0.0021\n",
            "  Batch 7300/8976 | Loss: 0.0010\n",
            "  Batch 7400/8976 | Loss: 0.0010\n",
            "  Batch 7500/8976 | Loss: 0.0056\n",
            "  Batch 7600/8976 | Loss: 0.0065\n",
            "  Batch 7700/8976 | Loss: 0.0001\n",
            "  Batch 7800/8976 | Loss: 0.0115\n",
            "  Batch 7900/8976 | Loss: 0.0001\n",
            "  Batch 8000/8976 | Loss: 0.0004\n",
            "  Batch 8100/8976 | Loss: 0.0034\n",
            "  Batch 8200/8976 | Loss: 0.0032\n",
            "  Batch 8300/8976 | Loss: 0.0026\n",
            "  Batch 8400/8976 | Loss: 0.0044\n",
            "  Batch 8500/8976 | Loss: 0.0023\n",
            "  Batch 8600/8976 | Loss: 0.0023\n",
            "  Batch 8700/8976 | Loss: 0.0032\n",
            "  Batch 8800/8976 | Loss: 0.0001\n",
            "  Batch 8900/8976 | Loss: 0.0002\n",
            "\n",
            "  Average Training Loss: 0.0027\n",
            "\n",
            "--- Validation Epoch 2 ---\n",
            "  Average Validation Loss: 0.0022\n",
            "  Hamming Loss: 0.0209\n",
            "\n",
            "Classification Report (parsed labels):\n",
            "               precision    recall  f1-score   support\n",
            "\n",
            "        toxic       0.81      0.76      0.78      1480\n",
            " severe_toxic       0.34      0.69      0.46       148\n",
            "      obscene       0.65      0.91      0.76       836\n",
            "       threat       0.00      0.00      0.00        37\n",
            "       insult       0.69      0.74      0.71       791\n",
            "identity_hate       0.60      0.02      0.04       147\n",
            "\n",
            "    micro avg       0.69      0.75      0.72      3439\n",
            "    macro avg       0.52      0.52      0.46      3439\n",
            " weighted avg       0.71      0.75      0.71      3439\n",
            "  samples avg       0.06      0.07      0.06      3439\n",
            "\n",
            "  ** New best model saved with Validation Loss: 0.0022 **\n",
            "\n",
            "--- Epoch 3/3 ---\n",
            "  Batch 100/8976 | Loss: 0.0033\n",
            "  Batch 200/8976 | Loss: 0.0029\n",
            "  Batch 300/8976 | Loss: 0.0024\n",
            "  Batch 400/8976 | Loss: 0.0037\n",
            "  Batch 500/8976 | Loss: 0.0050\n",
            "  Batch 600/8976 | Loss: 0.0042\n",
            "  Batch 700/8976 | Loss: 0.0015\n",
            "  Batch 800/8976 | Loss: 0.0027\n",
            "  Batch 900/8976 | Loss: 0.0009\n",
            "  Batch 1000/8976 | Loss: 0.0051\n",
            "  Batch 1100/8976 | Loss: 0.0056\n",
            "  Batch 1200/8976 | Loss: 0.0005\n",
            "  Batch 1300/8976 | Loss: 0.0007\n",
            "  Batch 1400/8976 | Loss: 0.0019\n",
            "  Batch 1500/8976 | Loss: 0.0018\n",
            "  Batch 1600/8976 | Loss: 0.0011\n",
            "  Batch 1700/8976 | Loss: 0.0016\n",
            "  Batch 1800/8976 | Loss: 0.0039\n",
            "  Batch 1900/8976 | Loss: 0.0015\n",
            "  Batch 2000/8976 | Loss: 0.0002\n",
            "  Batch 2100/8976 | Loss: 0.0030\n",
            "  Batch 2200/8976 | Loss: 0.0005\n",
            "  Batch 2300/8976 | Loss: 0.0007\n",
            "  Batch 2400/8976 | Loss: 0.0012\n",
            "  Batch 2500/8976 | Loss: 0.0052\n",
            "  Batch 2600/8976 | Loss: 0.0008\n",
            "  Batch 2700/8976 | Loss: 0.0079\n",
            "  Batch 2800/8976 | Loss: 0.0014\n",
            "  Batch 2900/8976 | Loss: 0.0031\n",
            "  Batch 3000/8976 | Loss: 0.0009\n",
            "  Batch 3100/8976 | Loss: 0.0026\n",
            "  Batch 3200/8976 | Loss: 0.0023\n",
            "  Batch 3300/8976 | Loss: 0.0029\n",
            "  Batch 3400/8976 | Loss: 0.0035\n",
            "  Batch 3500/8976 | Loss: 0.0007\n",
            "  Batch 3600/8976 | Loss: 0.0004\n",
            "  Batch 3700/8976 | Loss: 0.0022\n",
            "  Batch 3800/8976 | Loss: 0.0036\n",
            "  Batch 3900/8976 | Loss: 0.0012\n",
            "  Batch 4000/8976 | Loss: 0.0034\n",
            "  Batch 4100/8976 | Loss: 0.0018\n",
            "  Batch 4200/8976 | Loss: 0.0013\n",
            "  Batch 4300/8976 | Loss: 0.0019\n",
            "  Batch 4400/8976 | Loss: 0.0069\n",
            "  Batch 4500/8976 | Loss: 0.0004\n",
            "  Batch 4600/8976 | Loss: 0.0012\n",
            "  Batch 4700/8976 | Loss: 0.0041\n",
            "  Batch 4800/8976 | Loss: 0.0028\n",
            "  Batch 4900/8976 | Loss: 0.0004\n",
            "  Batch 5000/8976 | Loss: 0.0043\n",
            "  Batch 5100/8976 | Loss: 0.0037\n",
            "  Batch 5200/8976 | Loss: 0.0002\n",
            "  Batch 5300/8976 | Loss: 0.0014\n",
            "  Batch 5400/8976 | Loss: 0.0028\n",
            "  Batch 5500/8976 | Loss: 0.0032\n",
            "  Batch 5600/8976 | Loss: 0.0051\n",
            "  Batch 5700/8976 | Loss: 0.0023\n",
            "  Batch 5800/8976 | Loss: 0.0032\n",
            "  Batch 5900/8976 | Loss: 0.0037\n",
            "  Batch 6000/8976 | Loss: 0.0055\n",
            "  Batch 6100/8976 | Loss: 0.0023\n",
            "  Batch 6200/8976 | Loss: 0.0043\n",
            "  Batch 6300/8976 | Loss: 0.0032\n",
            "  Batch 6400/8976 | Loss: 0.0003\n",
            "  Batch 6500/8976 | Loss: 0.0047\n",
            "  Batch 6600/8976 | Loss: 0.0003\n",
            "  Batch 6700/8976 | Loss: 0.0017\n",
            "  Batch 6800/8976 | Loss: 0.0038\n",
            "  Batch 6900/8976 | Loss: 0.0015\n",
            "  Batch 7000/8976 | Loss: 0.0039\n",
            "  Batch 7100/8976 | Loss: 0.0052\n",
            "  Batch 7200/8976 | Loss: 0.0018\n",
            "  Batch 7300/8976 | Loss: 0.0015\n",
            "  Batch 7400/8976 | Loss: 0.0035\n",
            "  Batch 7500/8976 | Loss: 0.0001\n",
            "  Batch 7600/8976 | Loss: 0.0011\n",
            "  Batch 7700/8976 | Loss: 0.0018\n",
            "  Batch 7800/8976 | Loss: 0.0023\n",
            "  Batch 7900/8976 | Loss: 0.0021\n",
            "  Batch 8000/8976 | Loss: 0.0068\n",
            "  Batch 8100/8976 | Loss: 0.0085\n",
            "  Batch 8200/8976 | Loss: 0.0001\n",
            "  Batch 8300/8976 | Loss: 0.0025\n",
            "  Batch 8400/8976 | Loss: 0.0016\n",
            "  Batch 8500/8976 | Loss: 0.0011\n",
            "  Batch 8600/8976 | Loss: 0.0015\n",
            "  Batch 8700/8976 | Loss: 0.0014\n",
            "  Batch 8800/8976 | Loss: 0.0029\n",
            "  Batch 8900/8976 | Loss: 0.0088\n",
            "\n",
            "  Average Training Loss: 0.0025\n",
            "\n",
            "--- Validation Epoch 3 ---\n",
            "  Average Validation Loss: 0.0021\n",
            "  Hamming Loss: 0.0209\n",
            "\n",
            "Classification Report (parsed labels):\n",
            "               precision    recall  f1-score   support\n",
            "\n",
            "        toxic       0.78      0.80      0.79      1480\n",
            " severe_toxic       0.33      0.68      0.45       148\n",
            "      obscene       0.65      0.90      0.76       836\n",
            "       threat       0.33      0.03      0.05        37\n",
            "       insult       0.69      0.76      0.73       791\n",
            "identity_hate       0.50      0.01      0.03       147\n",
            "\n",
            "    micro avg       0.69      0.77      0.73      3439\n",
            "    macro avg       0.55      0.53      0.47      3439\n",
            " weighted avg       0.69      0.77      0.71      3439\n",
            "  samples avg       0.06      0.07      0.06      3439\n",
            "\n",
            "  ** New best model saved with Validation Loss: 0.0021 **\n",
            "\n",
            "Training Finished.\n",
            "Best Validation Loss: 0.0021\n",
            "Loaded best model state for prediction.\n"
          ]
        }
      ]
    },
    {
      "cell_type": "code",
      "metadata": {
        "id": "5459ef45",
        "colab": {
          "base_uri": "https://localhost:8080/"
        },
        "outputId": "586f49bb-026d-4c80-e084-60b7452bdfd2"
      },
      "source": [
        "#save the trained model into google drive folder\n",
        "model.save_pretrained('models/t5_jigsaw_multilabel_finetuned')\n",
        "tokenizer.save_pretrained(\"models/t5_jigsaw_multilabel_finetuned\")\n"
      ],
      "execution_count": 35,
      "outputs": [
        {
          "output_type": "execute_result",
          "data": {
            "text/plain": [
              "('models/t5_jigsaw_multilabel_finetuned/tokenizer_config.json',\n",
              " 'models/t5_jigsaw_multilabel_finetuned/special_tokens_map.json',\n",
              " 'models/t5_jigsaw_multilabel_finetuned/spiece.model',\n",
              " 'models/t5_jigsaw_multilabel_finetuned/added_tokens.json')"
            ]
          },
          "metadata": {},
          "execution_count": 35
        }
      ]
    }
  ]
}